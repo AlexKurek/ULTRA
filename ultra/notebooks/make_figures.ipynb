{
 "cells": [
  {
   "cell_type": "markdown",
   "id": "04358e53",
   "metadata": {},
   "source": [
    "#### This notebook contains pieces of code which is used to generate publication grade figures."
   ]
  },
  {
   "cell_type": "code",
   "execution_count": null,
   "id": "51c474ba",
   "metadata": {},
   "outputs": [],
   "source": [
    "import matplotlib.pyplot as plt\n",
    "import numpy as np\n",
    "from matplotlib.colors import LogNorm, TwoSlopeNorm\n",
    "import os\n",
    "\n",
    "import astropy.io.fits as fits\n",
    "import hcipy\n",
    "\n",
    "from pastis.simulators.scda_telescopes import HexRingAPLC\n",
    "import pastis.util as util\n",
    "from pastis.config import CONFIG_PASTIS"
   ]
  },
  {
   "cell_type": "markdown",
   "id": "45f59c63",
   "metadata": {},
   "source": [
    "#### Create data directory"
   ]
  },
  {
   "cell_type": "code",
   "execution_count": null,
   "id": "384bd26f",
   "metadata": {},
   "outputs": [],
   "source": [
    "data_dir = CONFIG_PASTIS.get('local', 'local_data_path')\n",
    "resDir = util.create_data_path(data_dir, 'figures')\n",
    "os.makedirs(resDir, exist_ok=True)\n"
   ]
  },
  {
   "cell_type": "markdown",
   "id": "3dda587c",
   "metadata": {},
   "source": [
    "## Generate optical schematics for a telescope simulator"
   ]
  },
  {
   "cell_type": "markdown",
   "id": "896253b0",
   "metadata": {},
   "source": [
    "#### For SCDA Designs"
   ]
  },
  {
   "cell_type": "code",
   "execution_count": null,
   "id": "55e7211d",
   "metadata": {
    "scrolled": false
   },
   "outputs": [],
   "source": [
    "optics_dir = os.path.join(util.find_repo_location(), 'data', 'SCDA')\n",
    "NUM_RINGS = 5\n",
    "sampling = 4\n",
    "\n",
    "tel = HexRingAPLC(optics_dir, NUM_RINGS, sampling)\n",
    "psf, intermediates = tel.calc_psf(display_intermediate=False, \n",
    "                                  return_intermediate='intensity',\n",
    "                                  norm_one_photon=True)"
   ]
  },
  {
   "cell_type": "markdown",
   "id": "a3e44cdb",
   "metadata": {},
   "source": [
    "### Plot intensities are various intermediate planes"
   ]
  },
  {
   "cell_type": "code",
   "execution_count": null,
   "id": "26939e94",
   "metadata": {},
   "outputs": [],
   "source": [
    "fpm_mask = np.zeros(len(intermediates['after_fpm']))\n",
    "\n",
    "for i in range(0, len(intermediates['after_fpm'])):\n",
    "    if intermediates['after_fpm'][i] == 0.0:\n",
    "        fpm_mask[i] = 0\n",
    "    else:\n",
    "        fpm_mask[i] = 1"
   ]
  },
  {
   "cell_type": "code",
   "execution_count": null,
   "id": "3c417f2b",
   "metadata": {
    "scrolled": false
   },
   "outputs": [],
   "source": [
    "plt.figure(figsize = (10, 7))\n",
    "\n",
    "# Entrance Pupil\n",
    "plt.subplot(2, 3, 1)\n",
    "hcipy.imshow_field(tel.apodizer, mask = tel.aperture, cmap='Greys_r')\n",
    "plt.tick_params(bottom=False, left=False, labelleft=False, labelbottom=False)\n",
    "#plt.colorbar()\n",
    "\n",
    "\n",
    "# before FPM\n",
    "plt.subplot(2, 3, 2)\n",
    "hcipy.imshow_field(intermediates['before_fpm'], \n",
    "                   norm=LogNorm(vmin=1e-8, vmax=1e-1), cmap='inferno')\n",
    "plt.tick_params(bottom=False, left=False, labelleft=False, labelbottom=False)\n",
    "#plt.colorbar()\n",
    "\n",
    "# after FPM, note: calc_psf returns int_after_fpm in log scale.\n",
    "plt.subplot(2, 3, 3)\n",
    "hcipy.imshow_field(10**(intermediates['after_fpm']), \n",
    "                   norm=LogNorm(vmin=1e-8, vmax=1e-1),mask = fpm_mask,cmap= 'inferno')\n",
    "plt.tick_params(bottom=False, left=False, labelleft=False, labelbottom=False)\n",
    "#plt.colorbar()\n",
    "\n",
    "\n",
    "# before Lyot Stop\n",
    "plt.subplot(2, 3, 4)\n",
    "hcipy.imshow_field(intermediates['before_lyot'], norm=LogNorm(vmin=1e-3, vmax=1), \n",
    "                   cmap='inferno')\n",
    "plt.tick_params(bottom=False, left=False, labelleft=False, labelbottom=False)\n",
    "#plt.colorbar()\n",
    "\n",
    "# after Lyot Stop\n",
    "plt.subplot(2, 3, 5)\n",
    "hcipy.imshow_field(intermediates['after_lyot'], mask=tel.lyotstop, norm=LogNorm(vmin=1e-3, vmax=1),\n",
    "                   cmap='inferno')\n",
    "plt.tick_params(bottom=False, left=False, labelleft=False, labelbottom=False)\n",
    "#plt.colorbar()\n",
    "\n",
    "# final PSF\n",
    "plt.subplot(2, 3, 6)\n",
    "hcipy.imshow_field(psf, norm=LogNorm(vmin=1e-14, vmax=1e-3), cmap='inferno')\n",
    "plt.tick_params(bottom=False, left=False, labelleft=False, labelbottom=False)\n",
    "#plt.colorbar()\n",
    "\n",
    "plt.tight_layout()\n",
    "plt.savefig(os.path.join(resDir, f'optical_train_{NUM_RINGS}_rings.png'))"
   ]
  },
  {
   "cell_type": "code",
   "execution_count": null,
   "id": "7d5bb12d",
   "metadata": {},
   "outputs": [],
   "source": []
  }
 ],
 "metadata": {
  "kernelspec": {
   "display_name": "Python 3 (ipykernel)",
   "language": "python",
   "name": "python3"
  },
  "language_info": {
   "codemirror_mode": {
    "name": "ipython",
    "version": 3
   },
   "file_extension": ".py",
   "mimetype": "text/x-python",
   "name": "python",
   "nbconvert_exporter": "python",
   "pygments_lexer": "ipython3",
   "version": "3.10.8"
  }
 },
 "nbformat": 4,
 "nbformat_minor": 5
}
