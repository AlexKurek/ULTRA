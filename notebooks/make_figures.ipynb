{
 "cells": [
  {
   "cell_type": "markdown",
   "id": "04358e53",
   "metadata": {},
   "source": [
    "## This notebook contains pieces of code which is used to generate figures."
   ]
  },
  {
   "cell_type": "code",
   "execution_count": null,
   "id": "51c474ba",
   "metadata": {},
   "outputs": [],
   "source": [
    "import matplotlib.pyplot as plt\n",
    "import numpy as np\n",
    "from matplotlib.colors import LogNorm, TwoSlopeNorm\n",
    "import os\n",
    "\n",
    "import astropy.io.fits as fits\n",
    "import hcipy\n",
    "\n",
    "from pastis.simulators.scda_telescopes import HexRingAPLC\n",
    "import pastis.util as util\n",
    "from pastis.config import CONFIG_PASTIS\n",
    "\n",
    "os.chdir('../ULTRA')\n",
    "from config import CONFIG_ULTRA\n",
    "from ultra.util import sort_1d_mus_per_actuator, sort_1d_mus_per_seg"
   ]
  },
  {
   "cell_type": "markdown",
   "id": "45f59c63",
   "metadata": {},
   "source": [
    "#### Create data directory"
   ]
  },
  {
   "cell_type": "code",
   "execution_count": null,
   "id": "384bd26f",
   "metadata": {},
   "outputs": [],
   "source": [
    "data_dir = CONFIG_PASTIS.get('local', 'local_data_path')\n",
    "resDir = util.create_data_path(data_dir, 'figures')\n",
    "os.makedirs(resDir, exist_ok=True)\n"
   ]
  },
  {
   "cell_type": "markdown",
   "id": "3dda587c",
   "metadata": {},
   "source": [
    "## Generate optical schematics for a telescope simulator"
   ]
  },
  {
   "cell_type": "markdown",
   "id": "896253b0",
   "metadata": {},
   "source": [
    "#### For SCDA Designs"
   ]
  },
  {
   "cell_type": "code",
   "execution_count": null,
   "id": "55e7211d",
   "metadata": {
    "scrolled": false
   },
   "outputs": [],
   "source": [
    "optics_dir = os.path.join(util.find_repo_location(), 'data', 'SCDA')\n",
    "NUM_RINGS = 5\n",
    "sampling = 4\n",
    "\n",
    "tel = HexRingAPLC(optics_dir, NUM_RINGS, sampling)\n",
    "psf, intermediates = tel.calc_psf(display_intermediate=False, \n",
    "                                  return_intermediate='intensity',\n",
    "                                  norm_one_photon=True)"
   ]
  },
  {
   "cell_type": "markdown",
   "id": "a3e44cdb",
   "metadata": {},
   "source": [
    "### Plot intensities are various intermediate planes"
   ]
  },
  {
   "cell_type": "code",
   "execution_count": null,
   "id": "26939e94",
   "metadata": {},
   "outputs": [],
   "source": [
    "fpm_mask = np.zeros(len(intermediates['after_fpm']))\n",
    "\n",
    "for i in range(0, len(intermediates['after_fpm'])):\n",
    "    if intermediates['after_fpm'][i] == 0.0:\n",
    "        fpm_mask[i] = 0\n",
    "    else:\n",
    "        fpm_mask[i] = 1"
   ]
  },
  {
   "cell_type": "code",
   "execution_count": null,
   "id": "3c417f2b",
   "metadata": {
    "scrolled": false
   },
   "outputs": [],
   "source": [
    "plt.figure(figsize = (10, 7))\n",
    "\n",
    "# Entrance Pupil\n",
    "plt.subplot(2, 3, 1)\n",
    "hcipy.imshow_field(tel.apodizer, mask = tel.aperture, cmap='Greys_r')\n",
    "plt.tick_params(bottom=False, left=False, labelleft=False, labelbottom=False)\n",
    "#plt.colorbar()\n",
    "\n",
    "\n",
    "# before FPM\n",
    "plt.subplot(2, 3, 2)\n",
    "hcipy.imshow_field(intermediates['before_fpm'], \n",
    "                   norm=LogNorm(vmin=1e-8, vmax=1e-1), cmap='inferno')\n",
    "plt.tick_params(bottom=False, left=False, labelleft=False, labelbottom=False)\n",
    "#plt.colorbar()\n",
    "\n",
    "# after FPM, note: calc_psf returns int_after_fpm in log scale.\n",
    "plt.subplot(2, 3, 3)\n",
    "hcipy.imshow_field(10**(intermediates['after_fpm']), \n",
    "                   norm=LogNorm(vmin=1e-8, vmax=1e-1),mask = fpm_mask,cmap= 'inferno')\n",
    "plt.tick_params(bottom=False, left=False, labelleft=False, labelbottom=False)\n",
    "#plt.colorbar()\n",
    "\n",
    "\n",
    "# before Lyot Stop\n",
    "plt.subplot(2, 3, 4)\n",
    "hcipy.imshow_field(intermediates['before_lyot'], norm=LogNorm(vmin=1e-3, vmax=1), \n",
    "                   cmap='inferno')\n",
    "plt.tick_params(bottom=False, left=False, labelleft=False, labelbottom=False)\n",
    "#plt.colorbar()\n",
    "\n",
    "# after Lyot Stop\n",
    "plt.subplot(2, 3, 5)\n",
    "hcipy.imshow_field(intermediates['after_lyot'], mask=tel.lyotstop, norm=LogNorm(vmin=1e-3, vmax=1),\n",
    "                   cmap='inferno')\n",
    "plt.tick_params(bottom=False, left=False, labelleft=False, labelbottom=False)\n",
    "#plt.colorbar()\n",
    "\n",
    "# final PSF\n",
    "plt.subplot(2, 3, 6)\n",
    "hcipy.imshow_field(psf, norm=LogNorm(vmin=1e-14, vmax=1e-3), cmap='inferno')\n",
    "plt.tick_params(bottom=False, left=False, labelleft=False, labelbottom=False)\n",
    "#plt.colorbar()\n",
    "\n",
    "plt.tight_layout()\n",
    "plt.savefig(os.path.join(resDir, f'optical_train_{NUM_RINGS}_rings.png'))"
   ]
  },
  {
   "cell_type": "markdown",
   "id": "34f5e229",
   "metadata": {},
   "source": [
    "\n",
    "\n",
    "\n",
    "\n",
    "\n",
    "# Generate pm/s surface maps \n"
   ]
  },
  {
   "cell_type": "markdown",
   "id": "cdd071a9",
   "metadata": {},
   "source": [
    "### Get necessary data files / initialize variables."
   ]
  },
  {
   "cell_type": "code",
   "execution_count": null,
   "id": "7336c80b",
   "metadata": {},
   "outputs": [],
   "source": [
    "#Check the NUM_RINGS for the following data path.\n",
    "NUM_RINGS = 5\n",
    "\n",
    "local_data_path = CONFIG_ULTRA.get('local_path', 'local_data_path')\n",
    "mus_csv_data_path = os.path.join(local_data_path, '2023-10-03T16-48-52_hexringtelescope/mus_Hex_5_1e-11.csv') \n",
    "\n",
    "optimal_wavescale = 10     # get this value from tolerance_table2.txt in mus_csv_data_path folder\n",
    "fractional_scale = 0.0001  # get this value from tolerance_table2.txt from same folder\n",
    "\n",
    "mus = np.genfromtxt(mus_csv_data_path, delimiter=',')"
   ]
  },
  {
   "cell_type": "code",
   "execution_count": null,
   "id": "8a45a86a",
   "metadata": {},
   "outputs": [],
   "source": [
    "optics_dir = os.path.join(util.find_repo_location(), 'data', 'SCDA')\n",
    "sampling = 4\n",
    "tel = HexRingAPLC(optics_dir, NUM_RINGS, sampling)\n",
    "\n",
    "WHICH_DM = 'harris_seg_mirror'\n",
    "\n",
    "if WHICH_DM == 'harris_seg_mirror':\n",
    "    fpath = CONFIG_PASTIS.get('LUVOIR', 'harris_data_path')  # path to Harris spreadsheet\n",
    "    pad_orientations = np.pi / 2 * np.ones(CONFIG_PASTIS.getint('LUVOIR', 'nb_subapertures'))\n",
    "    DM_SPEC = (fpath, pad_orientations, True, False, False)\n",
    "    NUM_MODES = 5\n",
    "    \n",
    "tel.create_segmented_harris_mirror(fpath, pad_orientations, thermal=True, mechanical=False, other=False)\n",
    "\n",
    "mus_per_actuator = sort_1d_mus_per_actuator(mus, NUM_MODES, tel.nseg)  # in nm\n",
    "\n",
    "mu_maps = []\n",
    "\n",
    "for mode in range(NUM_MODES):\n",
    "    coeffs = mus_per_actuator[mode]\n",
    "    if WHICH_DM == 'harris_seg_mirror':\n",
    "        tel.harris_sm.actuators = coeffs * 1e-9 / 2  # in meters of surface\n",
    "        mu_maps.append(tel.harris_sm.surface)  # in m\n",
    "    if WHICH_DM == 'seg_mirror':\n",
    "        tel.sm.actuators = coeffs * 1e-9 / 2  # in meters of surface\n",
    "        mu_maps.append(tel.sm.surface)  # in m"
   ]
  },
  {
   "cell_type": "code",
   "execution_count": null,
   "id": "cb7ffb5d",
   "metadata": {},
   "outputs": [],
   "source": [
    "plt.figure(figsize=(32, 5))\n",
    "plt.subplot(1, 5, 1)\n",
    "#plot_norm = TwoSlopeNorm(vcenter=0, vmin=-5, vmax=5)\n",
    "plot_norm = TwoSlopeNorm(vcenter=0)\n",
    "hcipy.imshow_field((mu_maps[0]) * 1e12 * np.sqrt(fractional_scale * optimal_wavescale ** 2), norm=plot_norm, cmap='RdBu')\n",
    "plt.tick_params(top=False, bottom=True, left=True, right=False, labelleft=True, labelbottom=True, labelsize=15)\n",
    "cbar = plt.colorbar()\n",
    "cbar.ax.tick_params(labelsize=15)\n",
    "cbar.set_label(\"Surface (pm/s)\", fontsize=15)\n",
    "plt.tight_layout()\n",
    "\n",
    "plt.subplot(1, 5, 2)\n",
    "#plot_norm = TwoSlopeNorm(vcenter=0, vmin=-10, vmax=10)\n",
    "plot_norm = TwoSlopeNorm(vcenter=0, vmin=-0.75, vmax=0.75)\n",
    "hcipy.imshow_field((mu_maps[1]) * 1e12 * np.sqrt(fractional_scale * optimal_wavescale ** 2), norm=plot_norm, cmap='RdBu')\n",
    "plt.tick_params(top=False, bottom=True, left=True, right=False, labelleft=True, labelbottom=True, labelsize=15)\n",
    "cbar = plt.colorbar()\n",
    "cbar.ax.tick_params(labelsize=15)\n",
    "cbar.set_label(\"Surface (pm/s)\", fontsize=15)\n",
    "plt.tight_layout()\n",
    "\n",
    "plt.subplot(1, 5, 3)\n",
    "#plot_norm = TwoSlopeNorm(vcenter=0, vmin=-8, vmax=8)\n",
    "plot_norm = TwoSlopeNorm(vcenter=0)\n",
    "hcipy.imshow_field((mu_maps[2]) * 1e12 * np.sqrt(fractional_scale * optimal_wavescale ** 2), norm=plot_norm, cmap='RdBu')\n",
    "plt.tick_params(top=False, bottom=True, left=True, right=False, labelleft=True, labelbottom=True, labelsize=15)\n",
    "cbar = plt.colorbar()\n",
    "cbar.ax.tick_params(labelsize=15)\n",
    "cbar.set_label(\"Surface (pm/s)\", fontsize=15)\n",
    "plt.tight_layout()\n",
    "\n",
    "plt.subplot(1, 5, 4)\n",
    "#plot_norm = TwoSlopeNorm(vcenter=0, vmin=-7, vmax=7)\n",
    "plot_norm = TwoSlopeNorm(vcenter=0)\n",
    "hcipy.imshow_field((mu_maps[3]) * 1e12 * np.sqrt(fractional_scale * optimal_wavescale ** 2), norm=plot_norm, cmap='RdBu')\n",
    "plt.tick_params(top=False, bottom=True, left=True, right=False, labelleft=True, labelbottom=True, labelsize=15)\n",
    "cbar = plt.colorbar()\n",
    "cbar.ax.tick_params(labelsize=15)\n",
    "cbar.set_label(\"Surface (pm/s)\", fontsize=15)\n",
    "plt.tight_layout()\n",
    "\n",
    "plt.subplot(1, 5, 5)\n",
    "#plot_norm = TwoSlopeNorm(vcenter=0, vmin=-12, vmax=12)\n",
    "plot_norm = TwoSlopeNorm(vcenter=0)\n",
    "hcipy.imshow_field((mu_maps[4]) * 1e12 * np.sqrt(fractional_scale * optimal_wavescale ** 2), norm=plot_norm, cmap='RdBu')\n",
    "plt.tick_params(top=False, bottom=True, left=True, right=False, labelleft=True, labelbottom=True, labelsize=15)\n",
    "cbar = plt.colorbar()\n",
    "cbar.ax.tick_params(labelsize=15)\n",
    "cbar.set_label(\"Surface (pm/s)\", fontsize=15)\n",
    "plt.tight_layout()\n",
    "plt.savefig(os.path.join(resDir, f'surface_pm_s_{NUM_RINGS}.png'))"
   ]
  },
  {
   "cell_type": "markdown",
   "id": "60ece3c5",
   "metadata": {},
   "source": [
    "# Plot tolerance maps in units of mK"
   ]
  },
  {
   "cell_type": "markdown",
   "id": "8f2f74fc",
   "metadata": {},
   "source": [
    "#### Note: why we multiplying 1000 to luvoir.sm.surface; recall the harris modal basis are essentially surface deformation formed when there is  a 1mk temperature change across different directions. \n",
    "Let $\\mathcal{f(x,y)}$ be the harris modal basis function.\n",
    "At any point $\\mathcal(x,y)$ on the segment, $\\mathcal{f(x,y)}$ denotes the surface deformation in pm. \n",
    "<br> Each segment in the figure named 'stat_mu_map_..' represents $\\mu_{kk}* \\mathcal{f(x,y)}$. \n",
    "where $\\mu_{kk}$ is an element from $\\textit{mu_map_harris}$ and it's unit is in nm. \n",
    "<br> Therefore, $10^3*\\mu_{kk}*f(x , y)$ is in pm scale.\n",
    "<br> $f(x,y)$ corresponds to 1 mk temperature change across the second.\n",
    "<br> $10^3*\\mu_{kk}*f(x , y)$ will correspond to $10^3*\\mu_{kk}$ mK temperature change.\n",
    "<br> Hence temperature-tolerances per mode per segment is $10^3*\\mu_{kk}$ mK.\n",
    "<br> In the just above codeblock, we are feeding each actuators of tel.sm.actuators with $\\mu_{kk}$. \n",
    "<br> Therefore, we multiply by a factor of 1000 i.e, to make it $10^3*\\mu_{kk}$ and see the plots in mK scale"
   ]
  },
  {
   "cell_type": "code",
   "execution_count": null,
   "id": "18b1633e",
   "metadata": {},
   "outputs": [],
   "source": [
    "mus_per_segment = sort_1d_mus_per_seg(mus, NUM_MODES, tel.nseg)\n",
    "\n",
    "tel.create_segmented_mirror(1)  # setting each segment to deform only in piston \n",
    "\n",
    "plt.figure(figsize=(32, 5))\n",
    "\n",
    "#for Harris modes use the following titles\n",
    "plot_titles = ['Faceplate Silvered', 'Bulk', 'Gradient Radial', 'Gradient X Lateral', 'Gradient Z axial']\n",
    "\n",
    "v_maxs = [1, 3, 6, 2, 2]  # use this for 1_hex\n",
    "# v_maxs = [1, 5, 8, 3, 3]  # for 2_hex\n",
    "# v_maxs = [0.5, 7, 6, 2, 2]  # for 3_hex\n",
    "# v_maxs = [0.5, 7, 6, 2, 2]  # for 4_hex\n",
    "# v_maxs = [0.5, 7, 6, 2, 2]  # for 5_hex\n",
    "\n",
    "for mode in range(NUM_MODES):\n",
    "    plt.subplot(1, NUM_MODES, mode+1)\n",
    "    plt.title(plot_titles[mode], fontsize=15)\n",
    "    tel.sm.flatten()\n",
    "    tel.sm.actuators = mus_per_segment[mode]\n",
    "    hcipy.imshow_field((tel.sm.surface)*1000, cmap = 'YlOrRd', vmin=0, vmax = v_maxs[mode])\n",
    "    plt.tick_params(top =False, bottom=False, left=False, right=False,labelleft=False, labelbottom=False)\n",
    "    cbar=plt.colorbar()\n",
    "    cbar.ax.tick_params(labelsize = 15)\n",
    "    cbar.set_label(\"mK\",fontsize = 15)\n",
    "    plt.tight_layout()\n",
    "    plt.savefig(os.path.join(resDir, f'surface_mK_{NUM_RINGS}.png'))"
   ]
  },
  {
   "cell_type": "markdown",
   "id": "bc8a3aca",
   "metadata": {},
   "source": [
    "# Plot tolerance maps in units of mK/s "
   ]
  },
  {
   "cell_type": "code",
   "execution_count": null,
   "id": "45c2b6f9",
   "metadata": {},
   "outputs": [],
   "source": [
    "plt.figure(figsize=(32, 5))\n",
    "\n",
    "#for Harris modes use the following titles\n",
    "plot_titles = ['Faceplate Silvered', 'Bulk', 'Gradient Radial', 'Gradient X Lateral', 'Gradient Z axial']\n",
    "\n",
    "# v_maxs = [0.5, 1.5, 2, 1, 1]  # use this for 1_hex\n",
    "# v_maxs = [0.3, 1.5, 2, 0.8, 0.8]  # for 2_hex\n",
    "# v_maxs = [0.06, 0.5, 0.5, 0.2, 0.2]  # for 3_hex\n",
    "# v_maxs = [0.06, 0.8, 0.5, 0.3, 0.2]  # for 4_hex\n",
    "v_maxs = [0.08, 1.0, 0.7, 0.3, 0.2]  # for 5_hex\n",
    "\n",
    "for mode in range(NUM_MODES):\n",
    "    plt.subplot(1, NUM_MODES, mode+1)\n",
    "    #plt.title(plot_titles[mode], fontsize=15)\n",
    "    tel.sm.flatten()\n",
    "    tel.sm.actuators = mus_per_segment[mode]\n",
    "    hcipy.imshow_field((tel.sm.surface) * 1000 * np.sqrt(fractional_scale * optimal_wavescale ** 2), \n",
    "                       cmap = 'YlOrRd', vmin=0, vmax=v_maxs[mode])\n",
    "    plt.tick_params(top =False, bottom=False, left=False, right=False,labelleft=False, labelbottom=False)\n",
    "    cbar=plt.colorbar()\n",
    "    cbar.ax.tick_params(labelsize = 15)\n",
    "    cbar.set_label(\"mK/s\",fontsize = 15)\n",
    "    plt.tight_layout()\n",
    "    plt.savefig(os.path.join(resDir, f'surface_mK_s_{NUM_RINGS}.png'))"
   ]
  },
  {
   "cell_type": "markdown",
   "id": "bf838348",
   "metadata": {},
   "source": [
    "# Plot contrast vs t_exp, for different scda designs.  "
   ]
  },
  {
   "cell_type": "code",
   "execution_count": null,
   "id": "5ac21611",
   "metadata": {},
   "outputs": [],
   "source": [
    "# Bring all the analysis run for all scda designs to a common folder, give the path to 'data_path'\n",
    "\n",
    "data_path = ''\n",
    "hex1_data = '2023-10-02T17-18-48_hexringtelescope'\n",
    "hex2_data = '2023-10-03T14-03-30_hexringtelescope'\n",
    "hex3_data = '2023-10-03T15-43-44_hexringtelescope'\n",
    "hex4_data = '2023-10-03T16-24-08_hexringtelescope'\n",
    "hex5_data = '2023-10-03T16-48-52_hexringtelescope'\n",
    "\n",
    "TimeMinus = CONFIG_ULTRA.getfloat('close_loop', 'TimeMinus')\n",
    "TimePlus = CONFIG_ULTRA.getfloat('close_loop', 'TimePlus')\n",
    "Ntimes = CONFIG_ULTRA.getint('close_loop', 'Ntimes')\n",
    "\n",
    "texp = np.logspace(TimeMinus, TimePlus, Ntimes)\n",
    "\n",
    "C_TARGET = CONFIG_ULTRA.getfloat('target', 'contrast')\n",
    "Vmag = CONFIG_ULTRA.getfloat('target', 'Vmag')\n",
    "    \n",
    "hex1 = np.genfromtxt(os.path.join(data_path, hex1_data,'contrast_wf.csv'), delimiter=',')\n",
    "hex2 = np.genfromtxt(os.path.join(data_path, hex2_data,'contrast_wf.csv'), delimiter=',')\n",
    "hex3 = np.genfromtxt(os.path.join(data_path, hex3_data,'contrast_wf.csv'), delimiter=',')\n",
    "hex4 = np.genfromtxt(os.path.join(data_path, hex4_data,'contrast_wf.csv'), delimiter=',')\n",
    "hex5 = np.genfromtxt(os.path.join(data_path, hex5_data,'contrast_wf.csv'), delimiter=',')\n",
    "\n",
    "contrast_floor1 = 5.40e-11\n",
    "contrast_floor2 = 4.17e-11\n",
    "contrast_floor3 = 6.26e-11\n",
    "contrast_floor4 = 8.90e-11\n",
    "contrast_floor5 = 3.98e-11\n",
    "\n",
    "plt.figure(figsize=(15, 10))\n",
    "\n",
    "font = {'family': 'serif', 'color': 'black', 'weight': 'normal', 'size': 20}\n",
    "plt.title('Target contrast = %s, Vmag= %s' % (C_TARGET, Vmag), fontdict=font)\n",
    "\n",
    "#see config and tolerance table to know the optimal wavescale and accrodingly chose part of the hex data array.  \n",
    "plt.plot(texp, hex1[5 * Ntimes:(5 + 1) * Ntimes] - contrast_floor1, \n",
    "         label=r'1Hex, $ Q = % .2f\\ pm/s$' % (0.7841)) \n",
    "plt.plot(texp, hex2[0 * Ntimes:(0 + 1) * Ntimes]  - contrast_floor2, \n",
    "         label=r'2Hex, $ Q = % .2f\\ pm/s$' % (0.5241))\n",
    "plt.plot(texp, hex3[0 * Ntimes:(0 + 1) * Ntimes] - contrast_floor3, \n",
    "         label=r'3Hex, $ Q = % .2f\\ pm/s$' % (0.5556))\n",
    "plt.plot(texp, hex4[0 * Ntimes:(0 + 1) * Ntimes] - contrast_floor4, \n",
    "         label=r'4Hex, $ Q = % .2f\\ pm/s$' % (0.6457))\n",
    "plt.plot(texp, hex5[0 * Ntimes:(0 + 1) * Ntimes] - contrast_floor5, \n",
    "         label=r'5Hex, $ Q= % .2f\\ pm/s$' % (0.9226))\n",
    "\n",
    "\n",
    "plt.xlabel(\"$t_{WFS}$ in secs\", fontsize=20)\n",
    "plt.ylabel(r\"$ \\Delta $ contrast\", fontsize=20)\n",
    "plt.yscale('log')\n",
    "plt.xscale('log')\n",
    "plt.legend(loc='upper center', fontsize=20)\n",
    "plt.tick_params(top=True, bottom=True, left=True, right=True, labelleft=True, labelbottom=True, labelsize=20)\n",
    "plt.tick_params(axis='both', which='major', length=10, width=2)\n",
    "plt.tick_params(axis='both', which='minor', length=6, width=2)\n",
    "plt.grid()\n",
    "plt.tight_layout()\n",
    "plt.savefig(os.path.join(resDir, f'temporal_designs.png'))"
   ]
  },
  {
   "cell_type": "code",
   "execution_count": null,
   "id": "ea2a4b0b",
   "metadata": {},
   "outputs": [],
   "source": []
  }
 ],
 "metadata": {
  "kernelspec": {
   "display_name": "Python 3 (ipykernel)",
   "language": "python",
   "name": "python3"
  },
  "language_info": {
   "codemirror_mode": {
    "name": "ipython",
    "version": 3
   },
   "file_extension": ".py",
   "mimetype": "text/x-python",
   "name": "python",
   "nbconvert_exporter": "python",
   "pygments_lexer": "ipython3",
   "version": "3.10.8"
  }
 },
 "nbformat": 4,
 "nbformat_minor": 5
}
